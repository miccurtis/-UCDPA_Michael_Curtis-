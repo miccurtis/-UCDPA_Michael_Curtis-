{
 "cells": [
  {
   "cell_type": "code",
   "execution_count": 1,
   "id": "3ba5be28",
   "metadata": {},
   "outputs": [],
   "source": [
    "import pandas as pd"
   ]
  },
  {
   "cell_type": "code",
   "execution_count": 16,
   "id": "ca04cbb9",
   "metadata": {},
   "outputs": [],
   "source": [
    "# USA Job Data"
   ]
  },
  {
   "cell_type": "code",
   "execution_count": 2,
   "id": "0fc759ef",
   "metadata": {},
   "outputs": [],
   "source": [
    "usa = pd.read_csv('linkedin-jobs-usa.csv')"
   ]
  },
  {
   "cell_type": "code",
   "execution_count": 3,
   "id": "70d555ec",
   "metadata": {},
   "outputs": [],
   "source": [
    "usa_df = pd.DataFrame(usa)"
   ]
  },
  {
   "cell_type": "code",
   "execution_count": 4,
   "id": "6f5f50b6",
   "metadata": {},
   "outputs": [],
   "source": [
    "sorted_usa = usa_df.sort_values('posted_date')"
   ]
  },
  {
   "cell_type": "code",
   "execution_count": 9,
   "id": "3566b1a6",
   "metadata": {},
   "outputs": [],
   "source": [
    "sorted_usa['origin'] = 'usa'"
   ]
  },
  {
   "cell_type": "code",
   "execution_count": 10,
   "id": "3dddf95e",
   "metadata": {},
   "outputs": [],
   "source": [
    "cleaned_usa = sorted_usa[['posted_date', 'onsite_remote', 'location', 'origin']]"
   ]
  },
  {
   "cell_type": "code",
   "execution_count": 14,
   "id": "2ef47836",
   "metadata": {},
   "outputs": [],
   "source": [
    "final_usa = cleaned_usa.drop_duplicates()"
   ]
  },
  {
   "cell_type": "code",
   "execution_count": 15,
   "id": "24bec8e8",
   "metadata": {},
   "outputs": [
    {
     "name": "stdout",
     "output_type": "stream",
     "text": [
      "     posted_date onsite_remote                   location origin\n",
      "2344  2022-08-12        hybrid         Woodcliff Lake, NJ    usa\n",
      "2336  2022-10-04        hybrid           Eden Prairie, MN    usa\n",
      "2335  2022-10-13        hybrid          San Francisco, CA    usa\n",
      "2405  2022-10-18        hybrid  Atlanta Metropolitan Area    usa\n",
      "2531  2022-10-20        hybrid                 Dublin, OH    usa\n"
     ]
    }
   ],
   "source": [
    "print(final_usa.head())"
   ]
  },
  {
   "cell_type": "code",
   "execution_count": 17,
   "id": "dc68231c",
   "metadata": {},
   "outputs": [],
   "source": [
    "# Africa Job Data"
   ]
  },
  {
   "cell_type": "code",
   "execution_count": 18,
   "id": "a716961c",
   "metadata": {},
   "outputs": [],
   "source": [
    "africa = pd.read_csv('linkedin-jobs-africa.csv')"
   ]
  },
  {
   "cell_type": "code",
   "execution_count": 19,
   "id": "ed996e75",
   "metadata": {},
   "outputs": [],
   "source": [
    "africa_df = pd.DataFrame(africa)"
   ]
  },
  {
   "cell_type": "code",
   "execution_count": 20,
   "id": "7a809325",
   "metadata": {},
   "outputs": [],
   "source": [
    "sorted_africa = africa_df.sort_values('posted_date')"
   ]
  },
  {
   "cell_type": "code",
   "execution_count": 21,
   "id": "e33b23e7",
   "metadata": {},
   "outputs": [],
   "source": [
    "sorted_africa['origin'] = 'africa'"
   ]
  },
  {
   "cell_type": "code",
   "execution_count": 22,
   "id": "cca388db",
   "metadata": {},
   "outputs": [],
   "source": [
    "cleaned_africa = sorted_africa[['posted_date', 'onsite_remote', 'location', 'origin']]"
   ]
  },
  {
   "cell_type": "code",
   "execution_count": 23,
   "id": "c997ec6c",
   "metadata": {},
   "outputs": [
    {
     "name": "stdout",
     "output_type": "stream",
     "text": [
      "    posted_date onsite_remote             location  origin\n",
      "211  2022-08-28        onsite                Ghana  africa\n",
      "260  2022-08-28        onsite                Ghana  africa\n",
      "36   2022-08-28        onsite                Ghana  africa\n",
      "305  2022-09-18        onsite  Cairo, Cairo, Egypt  africa\n",
      "905  2022-09-18        onsite  Cairo, Cairo, Egypt  africa\n"
     ]
    }
   ],
   "source": [
    "print(cleaned_africa.head())"
   ]
  },
  {
   "cell_type": "code",
   "execution_count": 27,
   "id": "f0b83793",
   "metadata": {},
   "outputs": [],
   "source": [
    "final_africa = cleaned_africa.drop_duplicates()"
   ]
  },
  {
   "cell_type": "code",
   "execution_count": 28,
   "id": "3a4f7d55",
   "metadata": {},
   "outputs": [
    {
     "name": "stdout",
     "output_type": "stream",
     "text": [
      "(194, 4)\n"
     ]
    }
   ],
   "source": [
    "print(final_usa.shape)"
   ]
  },
  {
   "cell_type": "code",
   "execution_count": 29,
   "id": "9699c2c3",
   "metadata": {},
   "outputs": [
    {
     "name": "stdout",
     "output_type": "stream",
     "text": [
      "(113, 4)\n"
     ]
    }
   ],
   "source": [
    "print(final_africa.shape)"
   ]
  },
  {
   "cell_type": "code",
   "execution_count": 30,
   "id": "8be89e5d",
   "metadata": {},
   "outputs": [],
   "source": [
    "# merge dataframes"
   ]
  },
  {
   "cell_type": "code",
   "execution_count": 31,
   "id": "5a92a3df",
   "metadata": {},
   "outputs": [],
   "source": [
    "merged_africa_usa = pd.concat([final_usa, final_africa], axis=0)"
   ]
  },
  {
   "cell_type": "code",
   "execution_count": 32,
   "id": "da0197f0",
   "metadata": {},
   "outputs": [
    {
     "name": "stdout",
     "output_type": "stream",
     "text": [
      "     posted_date onsite_remote                             location  origin\n",
      "2344  2022-08-12        hybrid                   Woodcliff Lake, NJ     usa\n",
      "2336  2022-10-04        hybrid                     Eden Prairie, MN     usa\n",
      "2335  2022-10-13        hybrid                    San Francisco, CA     usa\n",
      "2405  2022-10-18        hybrid            Atlanta Metropolitan Area     usa\n",
      "2531  2022-10-20        hybrid                           Dublin, OH     usa\n",
      "...          ...           ...                                  ...     ...\n",
      "1407  2022-11-23        remote   Accra, Greater Accra Region, Ghana  africa\n",
      "13    2022-11-23        onsite              Sousse, Sousse, Tunisia  africa\n",
      "7     2022-11-23        onsite         Dakar, Dakar Region, Senegal  africa\n",
      "249   2022-11-23        onsite  Johannesburg, Gauteng, South Africa  africa\n",
      "210   2022-11-23        onsite                                Egypt  africa\n",
      "\n",
      "[307 rows x 4 columns]\n"
     ]
    }
   ],
   "source": [
    "print(merged_africa_usa)"
   ]
  },
  {
   "cell_type": "code",
   "execution_count": 58,
   "id": "97d8e96b",
   "metadata": {},
   "outputs": [],
   "source": [
    "# Conditional statements, looping, groupby"
   ]
  },
  {
   "cell_type": "code",
   "execution_count": 54,
   "id": "09bc5162",
   "metadata": {},
   "outputs": [],
   "source": [
    "remote_count = 0\n",
    "usa_count = 0\n",
    "africa_count = 0\n",
    "\n",
    "for index, row in merged_africa_usa.iterrows():\n",
    "    if 'remote' in row['onsite_remote']:\n",
    "        remote_count += 1\n",
    "        if row['origin'] == 'usa':\n",
    "            usa_count += 1\n",
    "        elif row['origin'] == 'africa':\n",
    "            africa_count += 1\n"
   ]
  },
  {
   "cell_type": "code",
   "execution_count": 55,
   "id": "4d2fbad4",
   "metadata": {},
   "outputs": [
    {
     "name": "stdout",
     "output_type": "stream",
     "text": [
      "Number of occurrences of 'remote' in 'onsite_remote' column: 90\n",
      "Number of occurrences of 'usa' in 'remote_origins' column: 65\n",
      "Number of occurrences of 'africa' in 'remote_origins' column: 25\n"
     ]
    }
   ],
   "source": [
    "print(\"Number of occurrences of 'remote' in 'onsite_remote' column:\", remote_count)\n",
    "print(\"Number of occurrences of 'usa' in 'remote_origins' column:\", usa_count)\n",
    "print(\"Number of occurrences of 'africa' in 'remote_origins' column:\", africa_count)"
   ]
  },
  {
   "cell_type": "code",
   "execution_count": 80,
   "id": "f44d1423",
   "metadata": {},
   "outputs": [],
   "source": [
    "hybrid_count = 0\n",
    "usa_count = 0\n",
    "africa_count = 0\n",
    "\n",
    "for index, row in merged_africa_usa.iterrows():\n",
    "    if row['onsite_remote'] == 'hybrid':\n",
    "        hybrid_count += 1\n",
    "        if row['origin'] == 'usa':\n",
    "            usa_count += 1\n",
    "        elif row['origin'] == 'africa':\n",
    "            africa_count += 1\n"
   ]
  },
  {
   "cell_type": "code",
   "execution_count": 81,
   "id": "756bacf4",
   "metadata": {},
   "outputs": [
    {
     "name": "stdout",
     "output_type": "stream",
     "text": [
      "Number of occurrences of 'hybrid' in 'onsite_remote' column: 90\n",
      "Number of occurrences of 'usa' in 'hybrid_origins' column: 74\n",
      "Number of occurrences of 'africa' in 'hybrid_origins' column: 30\n"
     ]
    }
   ],
   "source": [
    "print(\"Number of occurrences of 'hybrid' in 'onsite_remote' column:\", remote_count)\n",
    "print(\"Number of occurrences of 'usa' in 'hybrid_origins' column:\", usa_count)\n",
    "print(\"Number of occurrences of 'africa' in 'hybrid_origins' column:\", africa_count)"
   ]
  },
  {
   "cell_type": "code",
   "execution_count": 83,
   "id": "040fd404",
   "metadata": {},
   "outputs": [],
   "source": [
    "onsite_count = 0\n",
    "usa_count = 0\n",
    "africa_count = 0\n",
    "\n",
    "for index, row in merged_africa_usa.iterrows():\n",
    "    if 'onsite' in row['onsite_remote']:\n",
    "        onsite_count += 1\n",
    "        if row['origin'] == 'usa':\n",
    "            usa_count += 1\n",
    "        elif row['origin'] == 'africa':\n",
    "            africa_count += 1"
   ]
  },
  {
   "cell_type": "code",
   "execution_count": 84,
   "id": "0f82b515",
   "metadata": {},
   "outputs": [
    {
     "name": "stdout",
     "output_type": "stream",
     "text": [
      "Number of occurrences of 'onsite' in 'onsite_remote' column: 90\n",
      "Number of occurrences of 'usa' in 'onsite_origins' column: 55\n",
      "Number of occurrences of 'africa' in 'onsite_origins' column: 58\n"
     ]
    }
   ],
   "source": [
    "print(\"Number of occurrences of 'onsite' in 'onsite_remote' column:\", remote_count)\n",
    "print(\"Number of occurrences of 'usa' in 'onsite_origins' column:\", usa_count)\n",
    "print(\"Number of occurrences of 'africa' in 'onsite_origins' column:\", africa_count)"
   ]
  },
  {
   "cell_type": "code",
   "execution_count": null,
   "id": "510c7b4e",
   "metadata": {},
   "outputs": [],
   "source": [
    "# Define a custom function to create reusable code"
   ]
  },
  {
   "cell_type": "code",
   "execution_count": 56,
   "id": "98ca91ef",
   "metadata": {},
   "outputs": [],
   "source": [
    "def count_occurrences(dataframe):\n",
    "    remote_count = 0\n",
    "    usa_count = 0\n",
    "    africa_count = 0\n",
    "\n",
    "    for index, row in dataframe.iterrows():\n",
    "        if 'remote' in row['onsite_remote']:\n",
    "            remote_count += 1\n",
    "            if row['origin'] == 'usa':\n",
    "                usa_count += 1\n",
    "            elif row['origin'] == 'africa':\n",
    "                africa_count += 1\n",
    "\n",
    "    return remote_count, usa_count, africa_count"
   ]
  },
  {
   "cell_type": "code",
   "execution_count": 57,
   "id": "5f34ba7e",
   "metadata": {},
   "outputs": [
    {
     "name": "stdout",
     "output_type": "stream",
     "text": [
      "Number of occurrences of 'remote' in 'onsite_remote' column: 90\n",
      "Number of occurrences of 'usa' in 'remote_origins' column: 65\n",
      "Number of occurrences of 'africa' in 'remote_origins' column: 25\n"
     ]
    }
   ],
   "source": [
    "counts = count_occurrences(merged_africa_usa)\n",
    "\n",
    "remote_count = counts[0]\n",
    "usa_count = counts[1]\n",
    "africa_count = counts[2]\n",
    "\n",
    "print(\"Number of occurrences of 'remote' in 'onsite_remote' column:\", remote_count)\n",
    "print(\"Number of occurrences of 'usa' in 'remote_origins' column:\", usa_count)\n",
    "print(\"Number of occurrences of 'africa' in 'remote_origins' column:\", africa_count)"
   ]
  },
  {
   "cell_type": "code",
   "execution_count": null,
   "id": "8aa6b83a",
   "metadata": {},
   "outputs": [],
   "source": [
    "# Use NumPy functions"
   ]
  },
  {
   "cell_type": "code",
   "execution_count": 61,
   "id": "e7829b42",
   "metadata": {},
   "outputs": [],
   "source": [
    "import numpy as np "
   ]
  },
  {
   "cell_type": "code",
   "execution_count": 62,
   "id": "7e2a4e99",
   "metadata": {},
   "outputs": [
    {
     "name": "stdout",
     "output_type": "stream",
     "text": [
      "Percentage of remote jobs in the 'onsite_remote' column: 29.31596091205212\n"
     ]
    }
   ],
   "source": [
    "def calculate_remote_percentage(dataframe):\n",
    "    total_jobs = len(dataframe)  \n",
    "    remote_jobs = np.sum(dataframe['onsite_remote'].str.contains('remote')) \n",
    "\n",
    "    remote_percentage = (remote_jobs / total_jobs) * 100\n",
    "\n",
    "    return remote_percentage\n",
    "\n",
    "percentage = calculate_remote_percentage(merged_africa_usa)\n",
    "\n",
    "print(\"Percentage of remote jobs in the 'onsite_remote' column:\", percentage)"
   ]
  },
  {
   "cell_type": "code",
   "execution_count": 63,
   "id": "ecc935ac",
   "metadata": {},
   "outputs": [],
   "source": [
    "# Visualisation"
   ]
  },
  {
   "cell_type": "code",
   "execution_count": 64,
   "id": "9f93560b",
   "metadata": {},
   "outputs": [],
   "source": [
    "import matplotlib.pyplot as plt"
   ]
  },
  {
   "cell_type": "code",
   "execution_count": 75,
   "id": "17749cb2",
   "metadata": {},
   "outputs": [
    {
     "data": {
      "image/png": "[encoded data removed]",
      "text/plain": [
       "<Figure size 576x360 with 1 Axes>"
      ]
     },
     "metadata": {
      "needs_background": "light"
     },
     "output_type": "display_data"
    }
   ],
   "source": [
    "remote_count_usa = 65\n",
    "hybrid_count_usa = 74\n",
    "onsite_count_usa = 55\n",
    "            \n",
    "labels_usa = ['Remote', 'Hybrid', 'Onsite']\n",
    "counts_usa = [remote_count_usa, hybrid_count_usa, onsite_count_usa]\n",
    "\n",
    "plt.figure(figsize=(8, 5))\n",
    "plt.bar(labels_usa, counts_usa)\n",
    "plt.xlabel('Job Type')\n",
    "plt.ylabel('Count')\n",
    "plt.title('Job Types in USA')\n",
    "plt.show()"
   ]
  },
  {
   "cell_type": "code",
   "execution_count": 85,
   "id": "8467dd82",
   "metadata": {},
   "outputs": [
    {
     "data": {
      "image/png": "[encoded data removed]",
      "text/plain": [
       "<Figure size 576x360 with 1 Axes>"
      ]
     },
     "metadata": {
      "needs_background": "light"
     },
     "output_type": "display_data"
    }
   ],
   "source": [
    "remote_count_africa = 25\n",
    "hybrid_count_africa = 30\n",
    "onsite_count_africa = 58\n",
    "            \n",
    "labels_africa = ['Remote', 'Hybrid', 'Onsite']\n",
    "counts_africa = [remote_count_africa, hybrid_count_africa, onsite_count_africa]\n",
    "\n",
    "plt.figure(figsize=(8, 5))\n",
    "plt.bar(labels_africa, counts_africa)\n",
    "plt.xlabel('Job Type')\n",
    "plt.ylabel('Count')\n",
    "plt.title('Job Types in Africa')\n",
    "plt.show()"
   ]
  },
  {
   "cell_type": "code",
   "execution_count": 86,
   "id": "1a3edf1d",
   "metadata": {},
   "outputs": [
    {
     "data": {
      "image/png": "[encoded data removed]",
      "text/plain": [
       "<Figure size 576x360 with 1 Axes>"
      ]
     },
     "metadata": {
      "needs_background": "light"
     },
     "output_type": "display_data"
    }
   ],
   "source": [
    "remote_count_usa = 65\n",
    "hybrid_count_usa = 74\n",
    "onsite_count_usa = 55\n",
    "\n",
    "remote_count_africa = 25\n",
    "hybrid_count_africa = 30\n",
    "onsite_count_africa = 58\n",
    "\n",
    "labels = ['Remote', 'Hybrid', 'Onsite']\n",
    "\n",
    "heights_usa = [remote_count_usa, hybrid_count_usa, onsite_count_usa]\n",
    "heights_africa = [remote_count_africa, hybrid_count_africa, onsite_count_africa]\n",
    "\n",
    "positions = np.arange(len(labels))\n",
    "\n",
    "width = 0.35\n",
    "\n",
    "fig, ax = plt.subplots(figsize=(8, 5))\n",
    "\n",
    "rects_usa = ax.bar(positions - width/2, heights_usa, width, label='USA')\n",
    "\n",
    "rects_africa = ax.bar(positions + width/2, heights_africa, width, label='Africa')\n",
    "\n",
    "ax.set_xlabel('Job Type')\n",
    "ax.set_ylabel('Count')\n",
    "ax.set_title('Job Types Comparison: USA vs Africa')\n",
    "ax.set_xticks(positions)\n",
    "ax.set_xticklabels(labels)\n",
    "ax.legend()\n",
    "\n",
    "def autolabel(rects):\n",
    "    for rect in rects:\n",
    "        height = rect.get_height()\n",
    "        ax.annotate('{}'.format(height),\n",
    "                    xy=(rect.get_x() + rect.get_width() / 2, height),\n",
    "                    xytext=(0, 3),\n",
    "                    textcoords=\"offset points\",\n",
    "                    ha='center', va='bottom')\n",
    "        \n",
    "autolabel(rects_usa)\n",
    "autolabel(rects_africa)\n",
    "\n",
    "plt.tight_layout()\n",
    "plt.show()"
   ]
  },
  {
   "cell_type": "code",
   "execution_count": 87,
   "id": "e0a7cd99",
   "metadata": {},
   "outputs": [],
   "source": [
    "# Insights\n",
    "# 1. Out of 113 jobs posted in Africa for Data Analysts, 25 were remote, 30 were hybrid and 58 were onsite (shown in the orange bars).\n",
    "# 2. Out of 194 jobs posted in USA for Data Analysts, 65 were remote, 74 were hybrid and 55 were onsite (shown in the blue bars). \n",
    "# 3. The USA offers more remote opportunities for data analysts on average.\n",
    "# 4. The USA offers more hybrid opportunities for data analysts on average.\n",
    "# 5. Africa has a bigger requirement for data analysts to work onsite on average."
   ]
  },
  {
   "cell_type": "code",
   "execution_count": 88,
   "id": "f98b1846",
   "metadata": {},
   "outputs": [],
   "source": [
    "# Machine Learning\n",
    "# One way to use machine learning to make predictions, could be to predict demand for the different job types in the future. Machine learning could be used to estimate the expected number of positions posted and the volume of specific job types. \n",
    "# Predicting values continuously would be best performed using regression methods."
   ]
  },
  {
   "cell_type": "code",
   "execution_count": null,
   "id": "8cf64010",
   "metadata": {},
   "outputs": [],
   "source": []
  }
 ],
 "metadata": {
  "kernelspec": {
   "display_name": "Python 3",
   "language": "python",
   "name": "python3"
  },
  "language_info": {
   "codemirror_mode": {
    "name": "ipython",
    "version": 3
   },
   "file_extension": ".py",
   "mimetype": "text/x-python",
   "name": "python",
   "nbconvert_exporter": "python",
   "pygments_lexer": "ipython3",
   "version": "3.8.8"
  }
 },
 "nbformat": 4,
 "nbformat_minor": 5
}
